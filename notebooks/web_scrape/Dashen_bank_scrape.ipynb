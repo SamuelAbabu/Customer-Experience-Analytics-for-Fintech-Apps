{
 "cells": [
  {
   "cell_type": "code",
   "execution_count": 1,
   "id": "90a7e260",
   "metadata": {},
   "outputs": [
    {
     "name": "stdout",
     "output_type": "stream",
     "text": [
      "✅ DASHEN reviews saved successfully as DASHEN_bank_reviews.csv (English + Amharic).\n",
      "                                              review  rating  \\\n",
      "0  I like this mobile banking app very much. Over...       2   \n",
      "1                                               love       3   \n",
      "2                                               መቸሸጠ       5   \n",
      "3                                                wow       5   \n",
      "4                                              gadaa       5   \n",
      "\n",
      "                 date    bank       source  \n",
      "0 2025-06-07 10:40:29  DASHEN  Google Play  \n",
      "1 2025-06-06 00:15:44  DASHEN  Google Play  \n",
      "2 2025-06-03 19:40:31  DASHEN  Google Play  \n",
      "3 2025-06-03 17:30:11  DASHEN  Google Play  \n",
      "4 2025-06-01 17:10:53  DASHEN  Google Play  \n"
     ]
    }
   ],
   "source": [
    "from google_play_scraper import reviews\n",
    "import pandas as pd\n",
    "from google_play_scraper import Sort\n",
    "\n",
    "# Define DASHEN package ID\n",
    "app_id = \"com.dashen.dashensuperapp\"\n",
    "\n",
    "# Function to scrape reviews for a given language\n",
    "def scrape_reviews(app_id, bank_name, lang):\n",
    "    result, _ = reviews(\n",
    "        app_id,\n",
    "        lang=lang,  # Language: \"en\" for English, \"am\" for Amharic\n",
    "        country=\"ET\",\n",
    "        count=600,  # Fetch 600 reviews\n",
    "        sort=Sort.NEWEST\n",
    "    )\n",
    "    df = pd.DataFrame(result)\n",
    "    df[\"bank\"] = bank_name\n",
    "    df[\"source\"] = \"Google Play\"\n",
    "    df[\"language\"] = lang  # Track review language\n",
    "    return df\n",
    "\n",
    "# Fetch English & Amharic reviews\n",
    "df_en = scrape_reviews(app_id, \"DASHEN\", \"en\")\n",
    "df_am = scrape_reviews(app_id, \"DASHEN\", \"am\")\n",
    "\n",
    "# Merge datasets\n",
    "df = pd.concat([df_en, df_am], ignore_index=True)\n",
    "\n",
    "# Rename columns for consistency\n",
    "df.rename(columns={\"content\": \"review\", \"score\": \"rating\", \"at\": \"date\"}, inplace=True)\n",
    "\n",
    "# Ensure correct column ordering\n",
    "columns = [\"review\", \"rating\", \"date\", \"bank\", \"source\"]\n",
    "df = df[columns]\n",
    "\n",
    "# Save cleaned data\n",
    "df.to_csv(\"DASHEN_bank_reviews.csv\", index=False)\n",
    "print(\"✅ DASHEN reviews saved successfully as DASHEN_bank_reviews.csv (English + Amharic).\")\n",
    "# Display the first few rows of the DataFrame\n",
    "print(df.head())\n",
    "\n",
    "\n"
   ]
  },
  {
   "cell_type": "code",
   "execution_count": 3,
   "id": "d7a6adf8",
   "metadata": {},
   "outputs": [],
   "source": [
    "# Drop duplicate reviews\n",
    "df.drop_duplicates(subset=[\"review\"], inplace=True)\n",
    "\n",
    "# Remove empty reviews\n",
    "df.dropna(subset=[\"review\"], inplace=True)\n"
   ]
  },
  {
   "cell_type": "code",
   "execution_count": 4,
   "id": "1463a7e9",
   "metadata": {},
   "outputs": [],
   "source": [
    "df[\"date\"] = pd.to_datetime(df[\"date\"]).dt.strftime(\"%Y-%m-%d\")\n"
   ]
  },
  {
   "cell_type": "code",
   "execution_count": 5,
   "id": "1ebbf6c4",
   "metadata": {},
   "outputs": [
    {
     "name": "stdout",
     "output_type": "stream",
     "text": [
      "✅ DASHEN cleaned reviews saved as DASHEN_bank_reviews_clean.csv\n",
      "                                              review  rating        date  \\\n",
      "0  I like this mobile banking app very much. Over...       2  2025-06-07   \n",
      "1                                               love       3  2025-06-06   \n",
      "2                                               መቸሸጠ       5  2025-06-03   \n",
      "3                                                wow       5  2025-06-03   \n",
      "4                                              gadaa       5  2025-06-01   \n",
      "\n",
      "     bank       source  \n",
      "0  DASHEN  Google Play  \n",
      "1  DASHEN  Google Play  \n",
      "2  DASHEN  Google Play  \n",
      "3  DASHEN  Google Play  \n",
      "4  DASHEN  Google Play  \n"
     ]
    }
   ],
   "source": [
    "columns = [\"review\", \"rating\", \"date\", \"bank\", \"source\"]\n",
    "df = df[columns]\n",
    "\n",
    "# Save cleaned dataset\n",
    "df.to_csv(\"DASHEN_bank_reviews_clean.csv\", index=False)\n",
    "print(\"✅ DASHEN cleaned reviews saved as DASHEN_bank_reviews_clean.csv\")\n",
    "# Display the cleaned DataFrame\n",
    "print(df.head())\n",
    "\n"
   ]
  }
 ],
 "metadata": {
  "kernelspec": {
   "display_name": "Python 3",
   "language": "python",
   "name": "python3"
  },
  "language_info": {
   "codemirror_mode": {
    "name": "ipython",
    "version": 3
   },
   "file_extension": ".py",
   "mimetype": "text/x-python",
   "name": "python",
   "nbconvert_exporter": "python",
   "pygments_lexer": "ipython3",
   "version": "3.12.5"
  }
 },
 "nbformat": 4,
 "nbformat_minor": 5
}
