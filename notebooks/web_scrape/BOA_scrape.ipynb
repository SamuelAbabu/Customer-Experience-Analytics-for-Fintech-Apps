{
 "cells": [
  {
   "cell_type": "code",
   "execution_count": 2,
   "id": "fd8d9449",
   "metadata": {},
   "outputs": [
    {
     "name": "stdout",
     "output_type": "stream",
     "text": [
      "Requirement already satisfied: google-play-scraper in c:\\users\\samuel\\appdata\\local\\programs\\python\\python312\\lib\\site-packages (1.2.7)Note: you may need to restart the kernel to use updated packages.\n",
      "\n",
      "Requirement already satisfied: pandas in c:\\users\\samuel\\appdata\\local\\programs\\python\\python312\\lib\\site-packages (2.2.3)\n",
      "Requirement already satisfied: numpy>=1.26.0 in c:\\users\\samuel\\appdata\\local\\programs\\python\\python312\\lib\\site-packages (from pandas) (2.2.6)\n",
      "Requirement already satisfied: python-dateutil>=2.8.2 in c:\\users\\samuel\\appdata\\local\\programs\\python\\python312\\lib\\site-packages (from pandas) (2.9.0.post0)\n",
      "Requirement already satisfied: pytz>=2020.1 in c:\\users\\samuel\\appdata\\local\\programs\\python\\python312\\lib\\site-packages (from pandas) (2025.2)\n",
      "Requirement already satisfied: tzdata>=2022.7 in c:\\users\\samuel\\appdata\\local\\programs\\python\\python312\\lib\\site-packages (from pandas) (2025.2)\n",
      "Requirement already satisfied: six>=1.5 in c:\\users\\samuel\\appdata\\local\\programs\\python\\python312\\lib\\site-packages (from python-dateutil>=2.8.2->pandas) (1.16.0)\n"
     ]
    }
   ],
   "source": [
    "%pip install google-play-scraper pandas"
   ]
  },
  {
   "cell_type": "code",
   "execution_count": 3,
   "id": "36b3c20f",
   "metadata": {},
   "outputs": [
    {
     "name": "stdout",
     "output_type": "stream",
     "text": [
      "✅ BOA reviews saved successfully as BOA_bank_reviews.csv (English + Amharic).\n",
      "                                              review  rating  \\\n",
      "0                                   it's not working       3   \n",
      "1  Hello, I’m facing a problem with the BOA Mobil...       1   \n",
      "2                                        exceptional       5   \n",
      "3                               BoA Mobile good bank       5   \n",
      "4                    this is worest app 24/7 loading       1   \n",
      "\n",
      "                 date bank       source  \n",
      "0 2025-06-05 11:57:36  BOA  Google Play  \n",
      "1 2025-06-03 16:21:34  BOA  Google Play  \n",
      "2 2025-06-03 10:32:35  BOA  Google Play  \n",
      "3 2025-06-02 14:25:12  BOA  Google Play  \n",
      "4 2025-06-01 15:51:10  BOA  Google Play  \n"
     ]
    }
   ],
   "source": [
    "from google_play_scraper import reviews\n",
    "import pandas as pd\n",
    "from google_play_scraper import Sort\n",
    "\n",
    "# Define BOA package ID\n",
    "app_id = \"com.boa.boaMobileBanking\"\n",
    "\n",
    "# Function to scrape reviews for a given language\n",
    "def scrape_reviews(app_id, bank_name, lang):\n",
    "    result, _ = reviews(\n",
    "        app_id,\n",
    "        lang=lang,  # Language: \"en\" for English, \"am\" for Amharic\n",
    "        country=\"ET\",\n",
    "        count=600,  # Fetch 600 reviews\n",
    "        sort=Sort.NEWEST\n",
    "    )\n",
    "    df = pd.DataFrame(result)\n",
    "    df[\"bank\"] = bank_name\n",
    "    df[\"source\"] = \"Google Play\"\n",
    "    df[\"language\"] = lang  # Track review language\n",
    "    return df\n",
    "\n",
    "# Fetch English & Amharic reviews\n",
    "df_en = scrape_reviews(app_id, \"BOA\", \"en\")\n",
    "df_am = scrape_reviews(app_id, \"BOA\", \"am\")\n",
    "\n",
    "# Merge datasets\n",
    "df = pd.concat([df_en, df_am], ignore_index=True)\n",
    "\n",
    "# Rename columns for consistency\n",
    "df.rename(columns={\"content\": \"review\", \"score\": \"rating\", \"at\": \"date\"}, inplace=True)\n",
    "\n",
    "# Ensure correct column ordering\n",
    "columns = [\"review\", \"rating\", \"date\", \"bank\", \"source\"]\n",
    "df = df[columns]\n",
    "\n",
    "# Save cleaned data\n",
    "df.to_csv(\"BOA_bank_reviews.csv\", index=False)\n",
    "print(\"✅ BOA reviews saved successfully as BOA_bank_reviews.csv (English + Amharic).\")\n",
    "# Display the first few rows of the DataFrame\n",
    "print(df.head())\n",
    "\n",
    "\n"
   ]
  },
  {
   "cell_type": "code",
   "execution_count": 4,
   "id": "3699e8ea",
   "metadata": {},
   "outputs": [],
   "source": [
    "# Drop duplicate reviews\n",
    "df.drop_duplicates(subset=[\"review\"], inplace=True)\n",
    "\n",
    "# Remove empty reviews\n",
    "df.dropna(subset=[\"review\"], inplace=True)\n"
   ]
  },
  {
   "cell_type": "code",
   "execution_count": 5,
   "id": "7573a39e",
   "metadata": {},
   "outputs": [],
   "source": [
    "df[\"date\"] = pd.to_datetime(df[\"date\"]).dt.strftime(\"%Y-%m-%d\")\n"
   ]
  },
  {
   "cell_type": "code",
   "execution_count": 7,
   "id": "e911820f",
   "metadata": {},
   "outputs": [
    {
     "name": "stdout",
     "output_type": "stream",
     "text": [
      "✅ BOA cleaned reviews saved as BOA_bank_reviews_clean.csv\n",
      "                                              review  rating        date bank  \\\n",
      "0                                   it's not working       3  2025-06-05  BOA   \n",
      "1  Hello, I’m facing a problem with the BOA Mobil...       1  2025-06-03  BOA   \n",
      "2                                        exceptional       5  2025-06-03  BOA   \n",
      "3                               BoA Mobile good bank       5  2025-06-02  BOA   \n",
      "4                    this is worest app 24/7 loading       1  2025-06-01  BOA   \n",
      "\n",
      "        source  \n",
      "0  Google Play  \n",
      "1  Google Play  \n",
      "2  Google Play  \n",
      "3  Google Play  \n",
      "4  Google Play  \n"
     ]
    }
   ],
   "source": [
    "columns = [\"review\", \"rating\", \"date\", \"bank\", \"source\"]\n",
    "df = df[columns]\n",
    "\n",
    "# Save cleaned dataset\n",
    "df.to_csv(\"BOA_bank_reviews_clean.csv\", index=False)\n",
    "print(\"✅ BOA cleaned reviews saved as BOA_bank_reviews_clean.csv\")\n",
    "# Display the cleaned DataFrame\n",
    "print(df.head())\n",
    "\n"
   ]
  }
 ],
 "metadata": {
  "kernelspec": {
   "display_name": "Python 3",
   "language": "python",
   "name": "python3"
  },
  "language_info": {
   "codemirror_mode": {
    "name": "ipython",
    "version": 3
   },
   "file_extension": ".py",
   "mimetype": "text/x-python",
   "name": "python",
   "nbconvert_exporter": "python",
   "pygments_lexer": "ipython3",
   "version": "3.12.5"
  }
 },
 "nbformat": 4,
 "nbformat_minor": 5
}
