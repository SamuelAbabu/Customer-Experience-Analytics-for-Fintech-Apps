{
 "cells": [
  {
   "cell_type": "markdown",
   "id": "7bc77609",
   "metadata": {},
   "source": [
    "Installing required Libraries"
   ]
  },
  {
   "cell_type": "code",
   "execution_count": null,
   "id": "a1a35767",
   "metadata": {},
   "outputs": [],
   "source": [
    "%pip install google-play-scraper pandas\n",
    "\n"
   ]
  },
  {
   "cell_type": "markdown",
   "id": "847a3430",
   "metadata": {},
   "source": [
    "Intialize the scraper"
   ]
  },
  {
   "cell_type": "code",
   "execution_count": 6,
   "id": "c3764a91",
   "metadata": {},
   "outputs": [
    {
     "name": "stdout",
     "output_type": "stream",
     "text": [
      "✅ CBE reviews saved successfully as CBE_bank_reviews.csv (English + Amharic).\n"
     ]
    }
   ],
   "source": [
    "from google_play_scraper import reviews\n",
    "import pandas as pd\n",
    "from google_play_scraper import Sort\n",
    "\n",
    "# Define CBE package ID\n",
    "app_id = \"com.combanketh.mobilebanking\"\n",
    "\n",
    "# Function to scrape reviews for a given language\n",
    "def scrape_reviews(app_id, bank_name, lang):\n",
    "    result, _ = reviews(\n",
    "        app_id,\n",
    "        lang=lang,  # Language: \"en\" for English, \"am\" for Amharic\n",
    "        country=\"ET\",\n",
    "        count=600,  # Fetch 600 reviews\n",
    "        sort=Sort.NEWEST\n",
    "    )\n",
    "    df = pd.DataFrame(result)\n",
    "    df[\"bank\"] = bank_name\n",
    "    df[\"source\"] = \"Google Play\"\n",
    "    df[\"language\"] = lang  # Track review language\n",
    "    return df\n",
    "\n",
    "# Fetch English & Amharic reviews\n",
    "df_en = scrape_reviews(app_id, \"CBE\", \"en\")\n",
    "df_am = scrape_reviews(app_id, \"CBE\", \"am\")\n",
    "\n",
    "# Merge datasets\n",
    "df = pd.concat([df_en, df_am], ignore_index=True)\n",
    "\n",
    "# Rename columns for consistency\n",
    "df.rename(columns={\"content\": \"review\", \"score\": \"rating\", \"at\": \"date\"}, inplace=True)\n",
    "\n",
    "# Ensure correct column ordering\n",
    "columns = [\"review\", \"rating\", \"date\", \"bank\", \"source\"]\n",
    "df = df[columns]\n",
    "\n",
    "# Save cleaned data\n",
    "df.to_csv(\"CBE_bank_reviews.csv\", index=False)\n",
    "print(\"✅ CBE reviews saved successfully as CBE_bank_reviews.csv (English + Amharic).\")\n",
    "# Display the first few rows of the DataFrame\n",
    "print(df.head())\n",
    "\n",
    "\n"
   ]
  },
  {
   "cell_type": "markdown",
   "id": "d3a5240b",
   "metadata": {},
   "source": [
    "Finalizing Step 1: Cleaning & Formatting"
   ]
  },
  {
   "cell_type": "markdown",
   "id": "3afb5837",
   "metadata": {},
   "source": [
    "✅ 1️⃣ Remove Duplicates & Missing Values"
   ]
  },
  {
   "cell_type": "code",
   "execution_count": 7,
   "id": "b9d8e05a",
   "metadata": {},
   "outputs": [],
   "source": [
    "# Drop duplicate reviews\n",
    "df.drop_duplicates(subset=[\"review\"], inplace=True)\n",
    "\n",
    "# Remove empty reviews\n",
    "df.dropna(subset=[\"review\"], inplace=True)\n"
   ]
  },
  {
   "cell_type": "markdown",
   "id": "18ab8309",
   "metadata": {},
   "source": [
    "✅ 2️⃣ Normalize Date Format"
   ]
  },
  {
   "cell_type": "code",
   "execution_count": 8,
   "id": "7d6046a7",
   "metadata": {},
   "outputs": [],
   "source": [
    "df[\"date\"] = pd.to_datetime(df[\"date\"]).dt.strftime(\"%Y-%m-%d\")\n"
   ]
  },
  {
   "cell_type": "markdown",
   "id": "c20fcd09",
   "metadata": {},
   "source": [
    "✅ 3️⃣ Verify Column Order & Save Final CSV"
   ]
  },
  {
   "cell_type": "code",
   "execution_count": 9,
   "id": "22def090",
   "metadata": {},
   "outputs": [
    {
     "name": "stdout",
     "output_type": "stream",
     "text": [
      "✅ CBE cleaned reviews saved as CBE_bank_reviews_clean.csv\n",
      "                                              review  rating        date bank  \\\n",
      "0  really am happy to this app it is Siple to use...       5  2025-06-07  CBE   \n",
      "1  I liked this app. But the User interface is ve...       2  2025-06-07  CBE   \n",
      "2  \"Why don’t your ATMs support account-to-accoun...       4  2025-06-06  CBE   \n",
      "3                        what is this app problem???       1  2025-06-05  CBE   \n",
      "4       the app is proactive and a good connections.       5  2025-06-05  CBE   \n",
      "\n",
      "        source  \n",
      "0  Google Play  \n",
      "1  Google Play  \n",
      "2  Google Play  \n",
      "3  Google Play  \n",
      "4  Google Play  \n"
     ]
    }
   ],
   "source": [
    "columns = [\"review\", \"rating\", \"date\", \"bank\", \"source\"]\n",
    "df = df[columns]\n",
    "\n",
    "# Save cleaned dataset\n",
    "df.to_csv(\"CBE_bank_reviews_clean.csv\", index=False)\n",
    "print(\"✅ CBE cleaned reviews saved as CBE_bank_reviews_clean.csv\")\n",
    "# Display the cleaned DataFrame\n",
    "print(df.head())\n",
    "\n"
   ]
  }
 ],
 "metadata": {
  "kernelspec": {
   "display_name": ".venv",
   "language": "python",
   "name": "python3"
  },
  "language_info": {
   "codemirror_mode": {
    "name": "ipython",
    "version": 3
   },
   "file_extension": ".py",
   "mimetype": "text/x-python",
   "name": "python",
   "nbconvert_exporter": "python",
   "pygments_lexer": "ipython3",
   "version": "3.12.5"
  }
 },
 "nbformat": 4,
 "nbformat_minor": 5
}
