{
 "cells": [
  {
   "cell_type": "markdown",
   "id": "fc32cae2",
   "metadata": {},
   "source": [
    "Sentiment Analysis"
   ]
  },
  {
   "cell_type": "markdown",
   "id": "375d918a",
   "metadata": {},
   "source": [
    "1️⃣ Install NLP Libraries"
   ]
  },
  {
   "cell_type": "code",
   "execution_count": 3,
   "id": "c59e9fa4",
   "metadata": {},
   "outputs": [
    {
     "name": "stdout",
     "output_type": "stream",
     "text": [
      "Requirement already satisfied: transformers in c:\\users\\samuel\\appdata\\local\\programs\\python\\python312\\lib\\site-packages (4.52.4)\n",
      "Collecting vaderSentiment\n",
      "  Downloading vaderSentiment-3.3.2-py2.py3-none-any.whl.metadata (572 bytes)\n",
      "Requirement already satisfied: pandas in c:\\users\\samuel\\appdata\\local\\programs\\python\\python312\\lib\\site-packages (2.2.3)\n",
      "Requirement already satisfied: filelock in c:\\users\\samuel\\appdata\\local\\programs\\python\\python312\\lib\\site-packages (from transformers) (3.15.4)\n",
      "Requirement already satisfied: huggingface-hub<1.0,>=0.30.0 in c:\\users\\samuel\\appdata\\local\\programs\\python\\python312\\lib\\site-packages (from transformers) (0.32.3)\n",
      "Requirement already satisfied: numpy>=1.17 in c:\\users\\samuel\\appdata\\local\\programs\\python\\python312\\lib\\site-packages (from transformers) (2.2.6)\n",
      "Requirement already satisfied: packaging>=20.0 in c:\\users\\samuel\\appdata\\local\\programs\\python\\python312\\lib\\site-packages (from transformers) (24.1)\n",
      "Requirement already satisfied: pyyaml>=5.1 in c:\\users\\samuel\\appdata\\local\\programs\\python\\python312\\lib\\site-packages (from transformers) (6.0.2)\n",
      "Requirement already satisfied: regex!=2019.12.17 in c:\\users\\samuel\\appdata\\local\\programs\\python\\python312\\lib\\site-packages (from transformers) (2024.11.6)\n",
      "Requirement already satisfied: requests in c:\\users\\samuel\\appdata\\local\\programs\\python\\python312\\lib\\site-packages (from transformers) (2.32.3)\n",
      "Requirement already satisfied: tokenizers<0.22,>=0.21 in c:\\users\\samuel\\appdata\\local\\programs\\python\\python312\\lib\\site-packages (from transformers) (0.21.1)\n",
      "Requirement already satisfied: safetensors>=0.4.3 in c:\\users\\samuel\\appdata\\local\\programs\\python\\python312\\lib\\site-packages (from transformers) (0.5.3)\n",
      "Requirement already satisfied: tqdm>=4.27 in c:\\users\\samuel\\appdata\\local\\programs\\python\\python312\\lib\\site-packages (from transformers) (4.67.1)\n",
      "Requirement already satisfied: fsspec>=2023.5.0 in c:\\users\\samuel\\appdata\\local\\programs\\python\\python312\\lib\\site-packages (from huggingface-hub<1.0,>=0.30.0->transformers) (2025.5.1)\n",
      "Requirement already satisfied: typing-extensions>=3.7.4.3 in c:\\users\\samuel\\appdata\\local\\programs\\python\\python312\\lib\\site-packages (from huggingface-hub<1.0,>=0.30.0->transformers) (4.13.2)\n",
      "Requirement already satisfied: python-dateutil>=2.8.2 in c:\\users\\samuel\\appdata\\local\\programs\\python\\python312\\lib\\site-packages (from pandas) (2.9.0.post0)\n",
      "Requirement already satisfied: pytz>=2020.1 in c:\\users\\samuel\\appdata\\local\\programs\\python\\python312\\lib\\site-packages (from pandas) (2025.2)\n",
      "Requirement already satisfied: tzdata>=2022.7 in c:\\users\\samuel\\appdata\\local\\programs\\python\\python312\\lib\\site-packages (from pandas) (2025.2)\n",
      "Requirement already satisfied: six>=1.5 in c:\\users\\samuel\\appdata\\local\\programs\\python\\python312\\lib\\site-packages (from python-dateutil>=2.8.2->pandas) (1.16.0)\n",
      "Requirement already satisfied: colorama in c:\\users\\samuel\\appdata\\local\\programs\\python\\python312\\lib\\site-packages (from tqdm>=4.27->transformers) (0.4.6)\n",
      "Requirement already satisfied: charset-normalizer<4,>=2 in c:\\users\\samuel\\appdata\\local\\programs\\python\\python312\\lib\\site-packages (from requests->transformers) (3.3.2)\n",
      "Requirement already satisfied: idna<4,>=2.5 in c:\\users\\samuel\\appdata\\local\\programs\\python\\python312\\lib\\site-packages (from requests->transformers) (3.7)\n",
      "Requirement already satisfied: urllib3<3,>=1.21.1 in c:\\users\\samuel\\appdata\\local\\programs\\python\\python312\\lib\\site-packages (from requests->transformers) (2.2.2)\n",
      "Requirement already satisfied: certifi>=2017.4.17 in c:\\users\\samuel\\appdata\\local\\programs\\python\\python312\\lib\\site-packages (from requests->transformers) (2024.7.4)\n",
      "Downloading vaderSentiment-3.3.2-py2.py3-none-any.whl (125 kB)\n",
      "Installing collected packages: vaderSentiment\n",
      "Successfully installed vaderSentiment-3.3.2\n",
      "Note: you may need to restart the kernel to use updated packages.\n"
     ]
    }
   ],
   "source": [
    "%pip install transformers vaderSentiment pandas\n"
   ]
  },
  {
   "cell_type": "code",
   "execution_count": 10,
   "id": "2917fced",
   "metadata": {},
   "outputs": [
    {
     "name": "stderr",
     "output_type": "stream",
     "text": [
      "c:\\Users\\samuel\\AppData\\Local\\Programs\\Python\\Python312\\Lib\\site-packages\\huggingface_hub\\file_download.py:143: UserWarning: `huggingface_hub` cache-system uses symlinks by default to efficiently store duplicated files but your machine does not support them in C:\\Users\\samuel\\.cache\\huggingface\\hub\\models--distilbert-base-uncased-finetuned-sst-2-english. Caching files will still work but in a degraded version that might require more space on your disk. This warning can be disabled by setting the `HF_HUB_DISABLE_SYMLINKS_WARNING` environment variable. For more details, see https://huggingface.co/docs/huggingface_hub/how-to-cache#limitations.\n",
      "To support symlinks on Windows, you either need to activate Developer Mode or to run Python as an administrator. In order to activate developer mode, see this article: https://docs.microsoft.com/en-us/windows/apps/get-started/enable-your-device-for-development\n",
      "  warnings.warn(message)\n",
      "Xet Storage is enabled for this repo, but the 'hf_xet' package is not installed. Falling back to regular HTTP download. For better performance, install the package with: `pip install huggingface_hub[hf_xet]` or `pip install hf_xet`\n",
      "Device set to use cpu\n"
     ]
    },
    {
     "name": "stdout",
     "output_type": "stream",
     "text": [
      "✅ Sentiment analysis completed! Results saved in CBE_sentiment_analysis.csv.\n"
     ]
    }
   ],
   "source": [
    "from transformers import pipeline\n",
    "from vaderSentiment.vaderSentiment import SentimentIntensityAnalyzer\n",
    "import pandas as pd\n",
    "\n",
    "# Load cleaned CBE dataset\n",
    "df = pd.read_csv(r\"C:\\10 Kifia Tasks\\Week-2\\Customer-Experience-Analytics-for-Fintech-Apps\\notebooks\\web_scrape\\CBE_bank_reviews_clean.csv\")\n",
    "\n",
    "# Initialize sentiment analyzers\n",
    "vader_analyzer = SentimentIntensityAnalyzer()\n",
    "bert_analyzer = pipeline(\"sentiment-analysis\", model=\"distilbert-base-uncased-finetuned-sst-2-english\")\n",
    "\n",
    "# Apply VADER sentiment analysis\n",
    "def get_vader_sentiment(text):\n",
    "    score = vader_analyzer.polarity_scores(text)[\"compound\"]\n",
    "    return \"positive\" if score > 0.05 else \"negative\" if score < -0.05 else \"neutral\"\n",
    "\n",
    "# Apply BERT sentiment analysis\n",
    "def get_bert_sentiment(text):\n",
    "    return bert_analyzer(text)[0][\"label\"]\n",
    "\n",
    "# Apply both sentiment models\n",
    "df[\"vader_sentiment\"] = df[\"review\"].apply(get_vader_sentiment)\n",
    "df[\"bert_sentiment\"] = df[\"review\"].apply(get_bert_sentiment)\n",
    "\n",
    "# Save results\n",
    "df.to_csv(\"CBE_sentiment_analysis.csv\", index=False)\n",
    "print(\"✅ Sentiment analysis completed! Results saved in CBE_sentiment_analysis.csv.\")\n"
   ]
  },
  {
   "cell_type": "markdown",
   "id": "7bba0832",
   "metadata": {},
   "source": [
    "🔹 Aggregation"
   ]
  },
  {
   "cell_type": "code",
   "execution_count": 1,
   "id": "0d388ffe",
   "metadata": {},
   "outputs": [
    {
     "name": "stdout",
     "output_type": "stream",
     "text": [
      "✅ Sentiment aggregation completed! Saved in aggregated_sentiment.csv.\n"
     ]
    }
   ],
   "source": [
    "import pandas as pd\n",
    "\n",
    "# Load sentiment analysis results\n",
    "df = pd.read_csv(\"CBE_sentiment_analysis.csv\")\n",
    "\n",
    "# Convert sentiment labels to numerical values\n",
    "sentiment_mapping = {\"positive\": 1, \"neutral\": 0, \"negative\": -1}\n",
    "df[\"vader_sentiment_score\"] = df[\"vader_sentiment\"].map(sentiment_mapping)\n",
    "df[\"bert_sentiment_score\"] = df[\"bert_sentiment\"].map({\"POSITIVE\": 1, \"NEGATIVE\": -1})\n",
    "\n",
    "# Aggregate sentiment by bank and rating\n",
    "aggregated_df = df.groupby([\"bank\", \"rating\"]).agg(\n",
    "    mean_vader_sentiment=(\"vader_sentiment_score\", \"mean\"),\n",
    "    mean_bert_sentiment=(\"bert_sentiment_score\", \"mean\"),\n",
    "    count_reviews=(\"review\", \"count\")\n",
    ").reset_index()\n",
    "\n",
    "# Save aggregated results\n",
    "aggregated_df.to_csv(\"aggregated_sentiment.csv\", index=False)\n",
    "print(\"✅ Sentiment aggregation completed! Saved in aggregated_sentiment.csv.\")\n"
   ]
  }
 ],
 "metadata": {
  "kernelspec": {
   "display_name": "Python 3",
   "language": "python",
   "name": "python3"
  },
  "language_info": {
   "codemirror_mode": {
    "name": "ipython",
    "version": 3
   },
   "file_extension": ".py",
   "mimetype": "text/x-python",
   "name": "python",
   "nbconvert_exporter": "python",
   "pygments_lexer": "ipython3",
   "version": "3.12.5"
  }
 },
 "nbformat": 4,
 "nbformat_minor": 5
}
