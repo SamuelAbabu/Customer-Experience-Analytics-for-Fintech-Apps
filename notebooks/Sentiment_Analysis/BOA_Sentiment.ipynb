{
 "cells": [
  {
   "cell_type": "code",
   "execution_count": 1,
   "id": "a772d334",
   "metadata": {},
   "outputs": [
    {
     "name": "stderr",
     "output_type": "stream",
     "text": [
      "c:\\Users\\samuel\\AppData\\Local\\Programs\\Python\\Python312\\Lib\\site-packages\\tqdm\\auto.py:21: TqdmWarning: IProgress not found. Please update jupyter and ipywidgets. See https://ipywidgets.readthedocs.io/en/stable/user_install.html\n",
      "  from .autonotebook import tqdm as notebook_tqdm\n",
      "Device set to use cpu\n"
     ]
    },
    {
     "name": "stdout",
     "output_type": "stream",
     "text": [
      "✅ Sentiment analysis completed! Results saved in BOA_sentiment_analysis.csv.\n"
     ]
    }
   ],
   "source": [
    "from transformers import pipeline\n",
    "from vaderSentiment.vaderSentiment import SentimentIntensityAnalyzer\n",
    "import pandas as pd\n",
    "\n",
    "# Load cleaned CBE dataset\n",
    "df = pd.read_csv(r\"C:\\10 Kifia Tasks\\Week-2\\Customer-Experience-Analytics-for-Fintech-Apps\\notebooks\\web_scrape\\BOA_bank_reviews_clean.csv\")\n",
    "\n",
    "# Initialize sentiment analyzers\n",
    "vader_analyzer = SentimentIntensityAnalyzer()\n",
    "bert_analyzer = pipeline(\"sentiment-analysis\", model=\"distilbert-base-uncased-finetuned-sst-2-english\")\n",
    "\n",
    "# Apply VADER sentiment analysis\n",
    "def get_vader_sentiment(text):\n",
    "    score = vader_analyzer.polarity_scores(text)[\"compound\"]\n",
    "    return \"positive\" if score > 0.05 else \"negative\" if score < -0.05 else \"neutral\"\n",
    "\n",
    "# Apply BERT sentiment analysis\n",
    "def get_bert_sentiment(text):\n",
    "    return bert_analyzer(text)[0][\"label\"]\n",
    "\n",
    "# Apply both sentiment models\n",
    "df[\"vader_sentiment\"] = df[\"review\"].apply(get_vader_sentiment)\n",
    "df[\"bert_sentiment\"] = df[\"review\"].apply(get_bert_sentiment)\n",
    "\n",
    "# Save results\n",
    "df.to_csv(\"BOA_sentiment_analysis.csv\", index=False)\n",
    "print(\"✅ Sentiment analysis completed! Results saved in BOA_sentiment_analysis.csv.\")\n"
   ]
  },
  {
   "cell_type": "code",
   "execution_count": 2,
   "id": "6a08f251",
   "metadata": {},
   "outputs": [
    {
     "name": "stdout",
     "output_type": "stream",
     "text": [
      "✅ Sentiment aggregation completed! Saved in aggregated_sentiment.csv.\n"
     ]
    }
   ],
   "source": [
    "import pandas as pd\n",
    "\n",
    "# Load sentiment analysis results\n",
    "df = pd.read_csv(\"BOA_sentiment_analysis.csv\")\n",
    "\n",
    "# Convert sentiment labels to numerical values\n",
    "sentiment_mapping = {\"positive\": 1, \"neutral\": 0, \"negative\": -1}\n",
    "df[\"vader_sentiment_score\"] = df[\"vader_sentiment\"].map(sentiment_mapping)\n",
    "df[\"bert_sentiment_score\"] = df[\"bert_sentiment\"].map({\"POSITIVE\": 1, \"NEGATIVE\": -1})\n",
    "\n",
    "# Aggregate sentiment by bank and rating\n",
    "aggregated_df = df.groupby([\"bank\", \"rating\"]).agg(\n",
    "    mean_vader_sentiment=(\"vader_sentiment_score\", \"mean\"),\n",
    "    mean_bert_sentiment=(\"bert_sentiment_score\", \"mean\"),\n",
    "    count_reviews=(\"review\", \"count\")\n",
    ").reset_index()\n",
    "\n",
    "# Save aggregated results\n",
    "aggregated_df.to_csv(\"BOA_aggregated_sentiment.csv\", index=False)\n",
    "print(\"✅ Sentiment aggregation completed! Saved in aggregated_sentiment.csv.\")\n"
   ]
  }
 ],
 "metadata": {
  "kernelspec": {
   "display_name": "Python 3",
   "language": "python",
   "name": "python3"
  },
  "language_info": {
   "codemirror_mode": {
    "name": "ipython",
    "version": 3
   },
   "file_extension": ".py",
   "mimetype": "text/x-python",
   "name": "python",
   "nbconvert_exporter": "python",
   "pygments_lexer": "ipython3",
   "version": "3.12.5"
  }
 },
 "nbformat": 4,
 "nbformat_minor": 5
}
