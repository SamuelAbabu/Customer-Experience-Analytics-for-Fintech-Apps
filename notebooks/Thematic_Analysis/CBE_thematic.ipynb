{
 "cells": [
  {
   "cell_type": "markdown",
   "id": "c25d49ff",
   "metadata": {},
   "source": [
    "📊 Step 1: Preprocess Text for Thematic Analysis"
   ]
  },
  {
   "cell_type": "code",
   "execution_count": 7,
   "id": "2204b0e7",
   "metadata": {},
   "outputs": [
    {
     "name": "stdout",
     "output_type": "stream",
     "text": [
      "🔹 Top extracted keywords: ['access' 'account' 'add' 'allow' 'amazing' 'app' 'application' 'bad'\n",
      " 'bank' 'banking' 'cbe' 'crash' 'developer' 'easy' 'ethiopia' 'excellent'\n",
      " 'fast' 'fix' 'good' 'great' 'issue' 'like' 'make' 'mobile' 'money' 'need'\n",
      " 'network' 'nice' 'option' 'problem' 'reliable' 'screenshot' 'send'\n",
      " 'service' 'simple' 'take' 'thank' 'time' 'transaction' 'transfer'\n",
      " 'update' 'use' 'user' 'well' 'work' 'wow' 'በጣም' 'ነው' 'ግን' 'ጥሩ']\n"
     ]
    }
   ],
   "source": [
    "import pandas as pd\n",
    "import spacy\n",
    "from sklearn.feature_extraction.text import TfidfVectorizer\n",
    "\n",
    "# Load NLP model\n",
    "nlp = spacy.load(\"en_core_web_sm\")\n",
    "\n",
    "# Load sentiment dataset\n",
    "df = pd.read_csv(r\"C:\\10 Kifia Tasks\\Week-2\\Customer-Experience-Analytics-for-Fintech-Apps\\notebooks\\Sentiment_Analysis\\CBE_sentiment_analysis.csv\")\n",
    "\n",
    "# Preprocess text (lemmatization & stopword removal)\n",
    "df[\"clean_review\"] = df[\"review\"].apply(lambda x: \" \".join([token.lemma_ for token in nlp(str(x)) if not token.is_stop]))\n",
    "\n",
    "# Extract top keywords using TF-IDF\n",
    "vectorizer = TfidfVectorizer(max_features=50)\n",
    "tfidf_matrix = vectorizer.fit_transform(df[\"clean_review\"])\n",
    "keywords = vectorizer.get_feature_names_out()\n",
    "\n",
    "print(\"🔹 Top extracted keywords:\", keywords)\n"
   ]
  },
  {
   "cell_type": "markdown",
   "id": "4b0d6107",
   "metadata": {},
   "source": [
    "Step 2: Manual/Rule-Based Thematic Clustering"
   ]
  },
  {
   "cell_type": "code",
   "execution_count": 8,
   "id": "8b33d734",
   "metadata": {},
   "outputs": [
    {
     "name": "stdout",
     "output_type": "stream",
     "text": [
      "✅ Thematic clustering completed! Results saved in CBE_thematic_analysis.csv.\n"
     ]
    }
   ],
   "source": [
    "# Define rule-based keyword groups\n",
    "themes = {\n",
    "    \"Account Access Issues\": [\"login\", \"password\", \"authentication\", \"error\", \"access\"],\n",
    "    \"Transaction Performance\": [\"transfer\", \"delay\", \"slow\", \"processing\", \"speed\"],\n",
    "    \"User Interface & Experience\": [\"UI\", \"design\", \"navigation\", \"intuitive\", \"easy\"],\n",
    "    \"Customer Support\": [\"support\", \"help\", \"response\", \"service\"],\n",
    "    \"Feature Requests\": [\"fingerprint\", \"notification\", \"new features\", \"budgeting\"]\n",
    "}\n",
    "\n",
    "# Assign themes to reviews\n",
    "def categorize_theme(review):\n",
    "    matched_themes = [theme for theme, keywords in themes.items() if any(word in review for word in keywords)]\n",
    "    return matched_themes if matched_themes else [\"Other\"]\n",
    "\n",
    "df[\"identified_theme\"] = df[\"clean_review\"].apply(categorize_theme)\n",
    "df.to_csv(\"CBE_thematic_analysis.csv\", index=False)\n",
    "\n",
    "print(\"✅ Thematic clustering completed! Results saved in CBE_thematic_analysis.csv.\")\n"
   ]
  }
 ],
 "metadata": {
  "kernelspec": {
   "display_name": "Python 3",
   "language": "python",
   "name": "python3"
  },
  "language_info": {
   "codemirror_mode": {
    "name": "ipython",
    "version": 3
   },
   "file_extension": ".py",
   "mimetype": "text/x-python",
   "name": "python",
   "nbconvert_exporter": "python",
   "pygments_lexer": "ipython3",
   "version": "3.12.5"
  }
 },
 "nbformat": 4,
 "nbformat_minor": 5
}
