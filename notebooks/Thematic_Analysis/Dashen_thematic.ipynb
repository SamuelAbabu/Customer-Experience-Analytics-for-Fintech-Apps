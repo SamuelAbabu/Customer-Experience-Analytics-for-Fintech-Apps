{
 "cells": [
  {
   "cell_type": "code",
   "execution_count": 1,
   "id": "6d6e6a54",
   "metadata": {},
   "outputs": [
    {
     "name": "stdout",
     "output_type": "stream",
     "text": [
      "🔹 Top extracted keywords: ['account' 'ahead' 'amazing' 'app' 'application' 'bank' 'banking'\n",
      " 'changer' 'chat' 'commerce' 'convenient' 'customer' 'dashen' 'digital'\n",
      " 'easy' 'excellent' 'experience' 'fast' 'feature' 'friendly' 'game' 'good'\n",
      " 'great' 'highly' 'interface' 'like' 'love' 'make' 'mobile' 'need' 'nice'\n",
      " 'payment' 'platform' 'recommend' 'reliable' 'seamless' 'secure' 'service'\n",
      " 'smooth' 'step' 'super' 'supper' 'thank' 'time' 'transaction' 'transfer'\n",
      " 'use' 'user' 'work' 'wow']\n"
     ]
    }
   ],
   "source": [
    "import pandas as pd\n",
    "import spacy\n",
    "from sklearn.feature_extraction.text import TfidfVectorizer\n",
    "\n",
    "# Load NLP model\n",
    "nlp = spacy.load(\"en_core_web_sm\")\n",
    "\n",
    "# Load sentiment dataset\n",
    "df = pd.read_csv(r\"C:\\10 Kifia Tasks\\Week-2\\Customer-Experience-Analytics-for-Fintech-Apps\\notebooks\\Sentiment_Analysis\\DASHEN_sentiment_analysis.csv\")\n",
    "\n",
    "# Preprocess text (lemmatization & stopword removal)\n",
    "df[\"clean_review\"] = df[\"review\"].apply(lambda x: \" \".join([token.lemma_ for token in nlp(str(x)) if not token.is_stop]))\n",
    "\n",
    "# Extract top keywords using TF-IDF\n",
    "vectorizer = TfidfVectorizer(max_features=50)\n",
    "tfidf_matrix = vectorizer.fit_transform(df[\"clean_review\"])\n",
    "keywords = vectorizer.get_feature_names_out()\n",
    "\n",
    "print(\"🔹 Top extracted keywords:\", keywords)\n"
   ]
  },
  {
   "cell_type": "code",
   "execution_count": 2,
   "id": "45690b30",
   "metadata": {},
   "outputs": [
    {
     "name": "stdout",
     "output_type": "stream",
     "text": [
      "✅ Text preprocessing complete! Saved as DASHEN_preprocessed_reviews.csv.\n"
     ]
    }
   ],
   "source": [
    "import pandas as pd\n",
    "import spacy\n",
    "\n",
    "# Load NLP model\n",
    "nlp = spacy.load(\"en_core_web_sm\")\n",
    "\n",
    "# Load sentiment dataset\n",
    "df = pd.read_csv(r\"C:\\10 Kifia Tasks\\Week-2\\Customer-Experience-Analytics-for-Fintech-Apps\\notebooks\\Sentiment_Analysis\\DASHEN_sentiment_analysis.csv\")\n",
    "\n",
    "# Preprocess text (remove stopwords & lemmatize)\n",
    "def preprocess(text):\n",
    "    doc = nlp(str(text))\n",
    "    return \" \".join([token.lemma_ for token in doc if not token.is_stop])\n",
    "\n",
    "df[\"clean_review\"] = df[\"review\"].apply(preprocess)\n",
    "\n",
    "# Save preprocessed results\n",
    "df.to_csv(\"DASHEN_preprocessed_reviews.csv\", index=False)\n",
    "print(\"✅ Text preprocessing complete! Saved as DASHEN_preprocessed_reviews.csv.\")\n"
   ]
  },
  {
   "cell_type": "code",
   "execution_count": 3,
   "id": "d6b68670",
   "metadata": {},
   "outputs": [
    {
     "name": "stdout",
     "output_type": "stream",
     "text": [
      "✅ Thematic clustering completed! Results saved in DASHEN_thematic_analysis.csv.\n"
     ]
    }
   ],
   "source": [
    "# Define rule-based keyword groups\n",
    "themes = {\n",
    "    \"Account Access Issues\": [\"login\", \"password\", \"authentication\", \"error\", \"access\"],\n",
    "    \"Transaction Performance\": [\"transfer\", \"delay\", \"slow\", \"processing\", \"speed\"],\n",
    "    \"User Interface & Experience\": [\"UI\", \"design\", \"navigation\", \"intuitive\", \"easy\"],\n",
    "    \"Customer Support\": [\"support\", \"help\", \"response\", \"service\"],\n",
    "    \"Feature Requests\": [\"fingerprint\", \"notification\", \"new features\", \"budgeting\"]\n",
    "}\n",
    "\n",
    "# Assign themes to reviews\n",
    "def categorize_theme(review):\n",
    "    matched_themes = [theme for theme, keywords in themes.items() if any(word in review for word in keywords)]\n",
    "    return matched_themes if matched_themes else [\"Other\"]\n",
    "\n",
    "df[\"identified_theme\"] = df[\"clean_review\"].apply(categorize_theme)\n",
    "df.to_csv(\"DASHEN_thematic_analysis.csv\", index=False)\n",
    "\n",
    "print(\"✅ Thematic clustering completed! Results saved in DASHEN_thematic_analysis.csv.\")\n"
   ]
  }
 ],
 "metadata": {
  "kernelspec": {
   "display_name": "Python 3",
   "language": "python",
   "name": "python3"
  },
  "language_info": {
   "codemirror_mode": {
    "name": "ipython",
    "version": 3
   },
   "file_extension": ".py",
   "mimetype": "text/x-python",
   "name": "python",
   "nbconvert_exporter": "python",
   "pygments_lexer": "ipython3",
   "version": "3.12.5"
  }
 },
 "nbformat": 4,
 "nbformat_minor": 5
}
